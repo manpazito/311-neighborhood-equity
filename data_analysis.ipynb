{
 "cells": [
  {
   "cell_type": "markdown",
   "id": "85544d81",
   "metadata": {},
   "source": [
    "# Data Analysis and GIS Storytelling\n",
    "\n",
    "In this notebook we will explore 311 + ACS Data.\n",
    "\n",
    "_Note: This is a starter / placeholder file for Felix / Leslie to work on._"
   ]
  },
  {
   "cell_type": "code",
   "execution_count": null,
   "id": "fbcf5371",
   "metadata": {},
   "outputs": [],
   "source": [
    "import pandas as pd\n",
    "import geopandas as gpd\n",
    "import matplotlib.pyplot as plt\n",
    "import contextily as ctx\n",
    "import seaborn as sns\n",
    "import pydeck as pdk"
   ]
  },
  {
   "cell_type": "code",
   "execution_count": null,
   "id": "c5108677",
   "metadata": {},
   "outputs": [],
   "source": [
    "# Load 311 service requests and ACS data\n",
    "serv_req_gdf = gpd.read_parquet('data/processed/serv_req_cleaned.parquet')\n",
    "sf_tracts_acs = gpd.read_file('data/processed/sf_tracts_cleaned.gpkg')\n",
    "\n",
    "print(\"311 Service Requests GeoDataFrame:\")\n",
    "display(serv_req_gdf.head())\n",
    "print(\"San Francisco Tracts ACS GeoDataFrame:\")\n",
    "display(sf_tracts_acs.head())"
   ]
  }
 ],
 "metadata": {
  "kernelspec": {
   "display_name": "Python 3",
   "language": "python",
   "name": "python3"
  },
  "language_info": {
   "codemirror_mode": {
    "name": "ipython",
    "version": 3
   },
   "file_extension": ".py",
   "mimetype": "text/x-python",
   "name": "python",
   "nbconvert_exporter": "python",
   "pygments_lexer": "ipython3",
   "version": "3.13.9"
  }
 },
 "nbformat": 4,
 "nbformat_minor": 5
}
